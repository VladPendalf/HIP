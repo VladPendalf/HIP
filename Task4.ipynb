{
 "cells": [
  {
   "cell_type": "markdown",
   "metadata": {},
   "source": [
    "Практическое задание 4\n",
    "КМБО-06-20, Бундуки Владислав, Вариант 2"
   ]
  },
  {
   "cell_type": "raw",
   "metadata": {},
   "source": [
    "исходные данные:\n",
    "1) Набор данных - https://www.kaggle.com/arashnic/hr-analytics-job-change-of-data-scientists?select=aug_test.csv\n",
    "2) Тип классификатора - LogisticRegression(логистическая регрессия)\n",
    "3) Классификация по стобцу - Education level (Masters – класс 0, остальные уровни – класс 1)"
   ]
  },
  {
   "cell_type": "markdown",
   "metadata": {},
   "source": [
    "Устанавливаем необходимые библиотеки:"
   ]
  },
  {
   "cell_type": "code",
   "execution_count": null,
   "metadata": {},
   "outputs": [],
   "source": [
    "!pip install pandas\n",
    "!pip install sklearn"
   ]
  },
  {
   "cell_type": "code",
   "execution_count": 1,
   "metadata": {},
   "outputs": [
    {
     "data": {
      "text/html": [
       "<div>\n",
       "<style scoped>\n",
       "    .dataframe tbody tr th:only-of-type {\n",
       "        vertical-align: middle;\n",
       "    }\n",
       "\n",
       "    .dataframe tbody tr th {\n",
       "        vertical-align: top;\n",
       "    }\n",
       "\n",
       "    .dataframe thead th {\n",
       "        text-align: right;\n",
       "    }\n",
       "</style>\n",
       "<table border=\"1\" class=\"dataframe\">\n",
       "  <thead>\n",
       "    <tr style=\"text-align: right;\">\n",
       "      <th></th>\n",
       "      <th>city_development_index</th>\n",
       "      <th>gender</th>\n",
       "      <th>relevent_experience</th>\n",
       "      <th>enrolled_university</th>\n",
       "      <th>education_level</th>\n",
       "      <th>major_discipline</th>\n",
       "      <th>experience</th>\n",
       "      <th>company_size</th>\n",
       "      <th>company_type</th>\n",
       "      <th>last_new_job</th>\n",
       "      <th>training_hours</th>\n",
       "    </tr>\n",
       "    <tr>\n",
       "      <th>city</th>\n",
       "      <th></th>\n",
       "      <th></th>\n",
       "      <th></th>\n",
       "      <th></th>\n",
       "      <th></th>\n",
       "      <th></th>\n",
       "      <th></th>\n",
       "      <th></th>\n",
       "      <th></th>\n",
       "      <th></th>\n",
       "      <th></th>\n",
       "    </tr>\n",
       "  </thead>\n",
       "  <tbody>\n",
       "    <tr>\n",
       "      <th>city_41</th>\n",
       "      <td>0.827</td>\n",
       "      <td>Male</td>\n",
       "      <td>Has relevent experience</td>\n",
       "      <td>Full time course</td>\n",
       "      <td>Graduate</td>\n",
       "      <td>STEM</td>\n",
       "      <td>9</td>\n",
       "      <td>&lt;10</td>\n",
       "      <td>NaN</td>\n",
       "      <td>1</td>\n",
       "      <td>21</td>\n",
       "    </tr>\n",
       "    <tr>\n",
       "      <th>city_103</th>\n",
       "      <td>0.920</td>\n",
       "      <td>Female</td>\n",
       "      <td>Has relevent experience</td>\n",
       "      <td>no_enrollment</td>\n",
       "      <td>Graduate</td>\n",
       "      <td>STEM</td>\n",
       "      <td>5</td>\n",
       "      <td>NaN</td>\n",
       "      <td>Pvt Ltd</td>\n",
       "      <td>1</td>\n",
       "      <td>98</td>\n",
       "    </tr>\n",
       "    <tr>\n",
       "      <th>city_21</th>\n",
       "      <td>0.624</td>\n",
       "      <td>Male</td>\n",
       "      <td>No relevent experience</td>\n",
       "      <td>no_enrollment</td>\n",
       "      <td>High School</td>\n",
       "      <td>NaN</td>\n",
       "      <td>&lt;1</td>\n",
       "      <td>NaN</td>\n",
       "      <td>Pvt Ltd</td>\n",
       "      <td>never</td>\n",
       "      <td>15</td>\n",
       "    </tr>\n",
       "    <tr>\n",
       "      <th>city_13</th>\n",
       "      <td>0.827</td>\n",
       "      <td>Male</td>\n",
       "      <td>Has relevent experience</td>\n",
       "      <td>no_enrollment</td>\n",
       "      <td>Masters</td>\n",
       "      <td>STEM</td>\n",
       "      <td>11</td>\n",
       "      <td>10/49</td>\n",
       "      <td>Pvt Ltd</td>\n",
       "      <td>1</td>\n",
       "      <td>39</td>\n",
       "    </tr>\n",
       "    <tr>\n",
       "      <th>city_103</th>\n",
       "      <td>0.920</td>\n",
       "      <td>Male</td>\n",
       "      <td>Has relevent experience</td>\n",
       "      <td>no_enrollment</td>\n",
       "      <td>Graduate</td>\n",
       "      <td>STEM</td>\n",
       "      <td>&gt;20</td>\n",
       "      <td>10000+</td>\n",
       "      <td>Pvt Ltd</td>\n",
       "      <td>&gt;4</td>\n",
       "      <td>72</td>\n",
       "    </tr>\n",
       "  </tbody>\n",
       "</table>\n",
       "</div>"
      ],
      "text/plain": [
       "          city_development_index  gender      relevent_experience  \\\n",
       "city                                                                \n",
       "city_41                    0.827    Male  Has relevent experience   \n",
       "city_103                   0.920  Female  Has relevent experience   \n",
       "city_21                    0.624    Male   No relevent experience   \n",
       "city_13                    0.827    Male  Has relevent experience   \n",
       "city_103                   0.920    Male  Has relevent experience   \n",
       "\n",
       "         enrolled_university education_level major_discipline experience  \\\n",
       "city                                                                       \n",
       "city_41     Full time course        Graduate             STEM          9   \n",
       "city_103       no_enrollment        Graduate             STEM          5   \n",
       "city_21        no_enrollment     High School              NaN         <1   \n",
       "city_13        no_enrollment         Masters             STEM         11   \n",
       "city_103       no_enrollment        Graduate             STEM        >20   \n",
       "\n",
       "         company_size company_type last_new_job  training_hours  \n",
       "city                                                             \n",
       "city_41           <10          NaN            1              21  \n",
       "city_103          NaN      Pvt Ltd            1              98  \n",
       "city_21           NaN      Pvt Ltd        never              15  \n",
       "city_13         10/49      Pvt Ltd            1              39  \n",
       "city_103       10000+      Pvt Ltd           >4              72  "
      ]
     },
     "execution_count": 1,
     "metadata": {},
     "output_type": "execute_result"
    }
   ],
   "source": [
    "import pandas as pd\n",
    "import numpy as np\n",
    "import warnings\n",
    "warnings.filterwarnings('ignore')\n",
    "data = pd.read_csv('aug_test.csv', index_col='city')\n",
    "\n",
    "#исключим столбец с уникальными значениями: enrollee_id\t\n",
    "data = data[data.columns.drop(['enrollee_id'])]\n",
    "data.head()"
   ]
  },
  {
   "cell_type": "markdown",
   "metadata": {},
   "source": [
    "Описание столбцов:\n",
    "enrollee_id :  уникальный идентификатор кандидата\n",
    "\n",
    "city: Код города\n",
    "\n",
    "city_ development _index : индекс развития города (в масштабе)\n",
    "\n",
    "gender: Пол кандидата\n",
    "\n",
    "relevent_experience: Соответствующий опыт кандидата\n",
    "\n",
    "enrolled_university: Тип зачисленных университетских курсов, если таковые имеются.\n",
    "\n",
    "education_level: Уровень образования кандидата\n",
    "\n",
    "major_discipline :Обучение основной дисциплине кандидата\n",
    "\n",
    "experience: Кандидатский общий стаж в годах\n",
    "\n",
    "company_size: Количество сотрудников в компании текущего работодателя\n",
    "\n",
    "company_type : Тип текущего работодателя\n",
    "\n",
    "lastnewjob: разница в годах между предыдущей работой и текущей работой\n",
    "\n",
    "training_hours: завершенные часы обучения\n",
    "\n",
    "target: 0 - Не ищу смены работы, 1 - Ищу смену работы"
   ]
  },
  {
   "cell_type": "code",
   "execution_count": 2,
   "metadata": {},
   "outputs": [
    {
     "name": "stdout",
     "output_type": "stream",
     "text": [
      "<class 'pandas.core.frame.DataFrame'>\n",
      "Index: 2129 entries, city_41 to city_102\n",
      "Data columns (total 11 columns):\n",
      " #   Column                  Non-Null Count  Dtype  \n",
      "---  ------                  --------------  -----  \n",
      " 0   city_development_index  2129 non-null   float64\n",
      " 1   gender                  1621 non-null   object \n",
      " 2   relevent_experience     2129 non-null   object \n",
      " 3   enrolled_university     2098 non-null   object \n",
      " 4   education_level         2077 non-null   object \n",
      " 5   major_discipline        1817 non-null   object \n",
      " 6   experience              2124 non-null   object \n",
      " 7   company_size            1507 non-null   object \n",
      " 8   company_type            1495 non-null   object \n",
      " 9   last_new_job            2089 non-null   object \n",
      " 10  training_hours          2129 non-null   int64  \n",
      "dtypes: float64(1), int64(1), object(9)\n",
      "memory usage: 199.6+ KB\n"
     ]
    }
   ],
   "source": [
    "#Выводим информацию о датасете\n",
    "data.info()"
   ]
  },
  {
   "cell_type": "code",
   "execution_count": 3,
   "metadata": {},
   "outputs": [
    {
     "data": {
      "text/html": [
       "<div>\n",
       "<style scoped>\n",
       "    .dataframe tbody tr th:only-of-type {\n",
       "        vertical-align: middle;\n",
       "    }\n",
       "\n",
       "    .dataframe tbody tr th {\n",
       "        vertical-align: top;\n",
       "    }\n",
       "\n",
       "    .dataframe thead th {\n",
       "        text-align: right;\n",
       "    }\n",
       "</style>\n",
       "<table border=\"1\" class=\"dataframe\">\n",
       "  <thead>\n",
       "    <tr style=\"text-align: right;\">\n",
       "      <th></th>\n",
       "      <th>city_development_index</th>\n",
       "      <th>training_hours</th>\n",
       "    </tr>\n",
       "  </thead>\n",
       "  <tbody>\n",
       "    <tr>\n",
       "      <th>count</th>\n",
       "      <td>2129.000000</td>\n",
       "      <td>2129.000000</td>\n",
       "    </tr>\n",
       "    <tr>\n",
       "      <th>mean</th>\n",
       "      <td>0.824984</td>\n",
       "      <td>64.983091</td>\n",
       "    </tr>\n",
       "    <tr>\n",
       "      <th>std</th>\n",
       "      <td>0.125074</td>\n",
       "      <td>60.238660</td>\n",
       "    </tr>\n",
       "    <tr>\n",
       "      <th>min</th>\n",
       "      <td>0.448000</td>\n",
       "      <td>1.000000</td>\n",
       "    </tr>\n",
       "    <tr>\n",
       "      <th>25%</th>\n",
       "      <td>0.698000</td>\n",
       "      <td>23.000000</td>\n",
       "    </tr>\n",
       "    <tr>\n",
       "      <th>50%</th>\n",
       "      <td>0.903000</td>\n",
       "      <td>47.000000</td>\n",
       "    </tr>\n",
       "    <tr>\n",
       "      <th>75%</th>\n",
       "      <td>0.920000</td>\n",
       "      <td>86.000000</td>\n",
       "    </tr>\n",
       "    <tr>\n",
       "      <th>max</th>\n",
       "      <td>0.949000</td>\n",
       "      <td>334.000000</td>\n",
       "    </tr>\n",
       "  </tbody>\n",
       "</table>\n",
       "</div>"
      ],
      "text/plain": [
       "       city_development_index  training_hours\n",
       "count             2129.000000     2129.000000\n",
       "mean                 0.824984       64.983091\n",
       "std                  0.125074       60.238660\n",
       "min                  0.448000        1.000000\n",
       "25%                  0.698000       23.000000\n",
       "50%                  0.903000       47.000000\n",
       "75%                  0.920000       86.000000\n",
       "max                  0.949000      334.000000"
      ]
     },
     "execution_count": 3,
     "metadata": {},
     "output_type": "execute_result"
    }
   ],
   "source": [
    "#Посмотрим на статистики численных данных:\n",
    "data.describe()"
   ]
  },
  {
   "cell_type": "code",
   "execution_count": 4,
   "metadata": {},
   "outputs": [],
   "source": [
    "#Кодируем столбец из категориального признака\n",
    "data['gender'] = np.where(data['gender'] == 'Male', 1, 0)\n",
    "data['education_level'] = np.where(data['education_level'] == 'Masters', 0, 1)\n",
    "data['relevent_experience'] = np.where(data['relevent_experience'] == 'No relevent experience',0,1)"
   ]
  },
  {
   "cell_type": "code",
   "execution_count": 5,
   "metadata": {},
   "outputs": [
    {
     "data": {
      "text/plain": [
       "city\n",
       "city_41     1\n",
       "city_103    0\n",
       "city_21     1\n",
       "city_13     1\n",
       "city_103    1\n",
       "Name: gender, dtype: int32"
      ]
     },
     "execution_count": 5,
     "metadata": {},
     "output_type": "execute_result"
    }
   ],
   "source": [
    "data.gender.head()"
   ]
  },
  {
   "cell_type": "code",
   "execution_count": 6,
   "metadata": {},
   "outputs": [
    {
     "data": {
      "text/plain": [
       ">20    383\n",
       "5      163\n",
       "3      154\n",
       "4      145\n",
       "6      130\n",
       "2      128\n",
       "7      116\n",
       "9      113\n",
       "10      96\n",
       "11      86\n",
       "8       82\n",
       "<1      74\n",
       "16      68\n",
       "15      59\n",
       "1       56\n",
       "14      55\n",
       "13      54\n",
       "12      52\n",
       "17      36\n",
       "19      29\n",
       "18      26\n",
       "20      19\n",
       "Name: experience, dtype: int64"
      ]
     },
     "execution_count": 6,
     "metadata": {},
     "output_type": "execute_result"
    }
   ],
   "source": [
    "data['experience'].value_counts()"
   ]
  },
  {
   "cell_type": "code",
   "execution_count": 7,
   "metadata": {},
   "outputs": [
    {
     "data": {
      "text/html": [
       "<div>\n",
       "<style scoped>\n",
       "    .dataframe tbody tr th:only-of-type {\n",
       "        vertical-align: middle;\n",
       "    }\n",
       "\n",
       "    .dataframe tbody tr th {\n",
       "        vertical-align: top;\n",
       "    }\n",
       "\n",
       "    .dataframe thead th {\n",
       "        text-align: right;\n",
       "    }\n",
       "</style>\n",
       "<table border=\"1\" class=\"dataframe\">\n",
       "  <thead>\n",
       "    <tr style=\"text-align: right;\">\n",
       "      <th></th>\n",
       "      <th>city_development_index</th>\n",
       "      <th>gender</th>\n",
       "      <th>relevent_experience</th>\n",
       "      <th>enrolled_university</th>\n",
       "      <th>education_level</th>\n",
       "      <th>major_discipline</th>\n",
       "      <th>experience</th>\n",
       "      <th>company_size</th>\n",
       "      <th>company_type</th>\n",
       "      <th>last_new_job</th>\n",
       "      <th>training_hours</th>\n",
       "    </tr>\n",
       "    <tr>\n",
       "      <th>city</th>\n",
       "      <th></th>\n",
       "      <th></th>\n",
       "      <th></th>\n",
       "      <th></th>\n",
       "      <th></th>\n",
       "      <th></th>\n",
       "      <th></th>\n",
       "      <th></th>\n",
       "      <th></th>\n",
       "      <th></th>\n",
       "      <th></th>\n",
       "    </tr>\n",
       "  </thead>\n",
       "  <tbody>\n",
       "    <tr>\n",
       "      <th>city_41</th>\n",
       "      <td>0.827</td>\n",
       "      <td>1</td>\n",
       "      <td>1</td>\n",
       "      <td>2</td>\n",
       "      <td>1</td>\n",
       "      <td>4</td>\n",
       "      <td>14</td>\n",
       "      <td>3</td>\n",
       "      <td>0</td>\n",
       "      <td>2</td>\n",
       "      <td>21</td>\n",
       "    </tr>\n",
       "    <tr>\n",
       "      <th>city_103</th>\n",
       "      <td>0.920</td>\n",
       "      <td>0</td>\n",
       "      <td>1</td>\n",
       "      <td>1</td>\n",
       "      <td>1</td>\n",
       "      <td>4</td>\n",
       "      <td>17</td>\n",
       "      <td>0</td>\n",
       "      <td>2</td>\n",
       "      <td>2</td>\n",
       "      <td>98</td>\n",
       "    </tr>\n",
       "    <tr>\n",
       "      <th>city_21</th>\n",
       "      <td>0.624</td>\n",
       "      <td>1</td>\n",
       "      <td>0</td>\n",
       "      <td>1</td>\n",
       "      <td>1</td>\n",
       "      <td>0</td>\n",
       "      <td>3</td>\n",
       "      <td>0</td>\n",
       "      <td>2</td>\n",
       "      <td>3</td>\n",
       "      <td>15</td>\n",
       "    </tr>\n",
       "    <tr>\n",
       "      <th>city_13</th>\n",
       "      <td>0.827</td>\n",
       "      <td>1</td>\n",
       "      <td>1</td>\n",
       "      <td>1</td>\n",
       "      <td>0</td>\n",
       "      <td>4</td>\n",
       "      <td>9</td>\n",
       "      <td>4</td>\n",
       "      <td>2</td>\n",
       "      <td>2</td>\n",
       "      <td>39</td>\n",
       "    </tr>\n",
       "    <tr>\n",
       "      <th>city_103</th>\n",
       "      <td>0.920</td>\n",
       "      <td>1</td>\n",
       "      <td>1</td>\n",
       "      <td>1</td>\n",
       "      <td>1</td>\n",
       "      <td>4</td>\n",
       "      <td>1</td>\n",
       "      <td>5</td>\n",
       "      <td>2</td>\n",
       "      <td>4</td>\n",
       "      <td>72</td>\n",
       "    </tr>\n",
       "  </tbody>\n",
       "</table>\n",
       "</div>"
      ],
      "text/plain": [
       "          city_development_index  gender  relevent_experience  \\\n",
       "city                                                            \n",
       "city_41                    0.827       1                    1   \n",
       "city_103                   0.920       0                    1   \n",
       "city_21                    0.624       1                    0   \n",
       "city_13                    0.827       1                    1   \n",
       "city_103                   0.920       1                    1   \n",
       "\n",
       "          enrolled_university  education_level  major_discipline  experience  \\\n",
       "city                                                                           \n",
       "city_41                     2                1                 4          14   \n",
       "city_103                    1                1                 4          17   \n",
       "city_21                     1                1                 0           3   \n",
       "city_13                     1                0                 4           9   \n",
       "city_103                    1                1                 4           1   \n",
       "\n",
       "          company_size  company_type  last_new_job  training_hours  \n",
       "city                                                                \n",
       "city_41              3             0             2              21  \n",
       "city_103             0             2             2              98  \n",
       "city_21              0             2             3              15  \n",
       "city_13              4             2             2              39  \n",
       "city_103             5             2             4              72  "
      ]
     },
     "execution_count": 7,
     "metadata": {},
     "output_type": "execute_result"
    }
   ],
   "source": [
    "my_set = set(data.enrolled_university)\n",
    "i = 0\n",
    "for item in my_set:\n",
    "    data['enrolled_university'] = data['enrolled_university'].replace(item, i)\n",
    "    i = i + 1\n",
    "\n",
    "    \n",
    "my_set = set(data.last_new_job)\n",
    "i = 0\n",
    "for item in my_set:\n",
    "    data['last_new_job'] = data['last_new_job'].replace(item, i)\n",
    "    i = i + 1\n",
    "    \n",
    "my_set = set(data.major_discipline)\n",
    "i = 0\n",
    "for item in my_set:\n",
    "    data['major_discipline'] = data['major_discipline'].replace(item, i)\n",
    "    i = i + 1\n",
    "    \n",
    "my_set = set(data.company_type)\n",
    "i = 0\n",
    "for item in my_set:\n",
    "    data['company_type'] = data['company_type'].replace(item, i)\n",
    "    i = i + 1\n",
    "    \n",
    "my_set = set(data.company_size)\n",
    "i = 0\n",
    "for item in my_set:\n",
    "    data['company_size'] = data['company_size'].replace(item, i)\n",
    "    i = i + 1\n",
    "    \n",
    "my_set = set(data.experience)\n",
    "i = 0\n",
    "for item in my_set:\n",
    "    data['experience'] = data['experience'].replace(item, i)\n",
    "    i = i + 1\n",
    "\n",
    "data.loc[data.experience == 'NaN' , 'experience'] = 0\n",
    "\n",
    "data.loc[data.last_new_job == 'never' , 'last_new_job'] = 0\n",
    "data.loc[data.last_new_job == 'NaN' , 'last_new_job'] = 0\n",
    "data.loc[data.last_new_job == '>4' , 'last_new_job'] = 5\n",
    "\n",
    "data.loc[data.gender == 'NaN' , 'gender'] = 0\n",
    "\n",
    "data.head()"
   ]
  },
  {
   "cell_type": "code",
   "execution_count": 8,
   "metadata": {},
   "outputs": [
    {
     "data": {
      "text/html": [
       "<div>\n",
       "<style scoped>\n",
       "    .dataframe tbody tr th:only-of-type {\n",
       "        vertical-align: middle;\n",
       "    }\n",
       "\n",
       "    .dataframe tbody tr th {\n",
       "        vertical-align: top;\n",
       "    }\n",
       "\n",
       "    .dataframe thead th {\n",
       "        text-align: right;\n",
       "    }\n",
       "</style>\n",
       "<table border=\"1\" class=\"dataframe\">\n",
       "  <thead>\n",
       "    <tr style=\"text-align: right;\">\n",
       "      <th></th>\n",
       "      <th>city_development_index</th>\n",
       "      <th>gender</th>\n",
       "      <th>relevent_experience</th>\n",
       "      <th>enrolled_university</th>\n",
       "      <th>education_level</th>\n",
       "      <th>major_discipline</th>\n",
       "      <th>experience</th>\n",
       "      <th>company_size</th>\n",
       "      <th>company_type</th>\n",
       "      <th>last_new_job</th>\n",
       "      <th>training_hours</th>\n",
       "    </tr>\n",
       "    <tr>\n",
       "      <th>city</th>\n",
       "      <th></th>\n",
       "      <th></th>\n",
       "      <th></th>\n",
       "      <th></th>\n",
       "      <th></th>\n",
       "      <th></th>\n",
       "      <th></th>\n",
       "      <th></th>\n",
       "      <th></th>\n",
       "      <th></th>\n",
       "      <th></th>\n",
       "    </tr>\n",
       "  </thead>\n",
       "  <tbody>\n",
       "    <tr>\n",
       "      <th>city_41</th>\n",
       "      <td>0.827</td>\n",
       "      <td>1</td>\n",
       "      <td>1</td>\n",
       "      <td>2</td>\n",
       "      <td>1</td>\n",
       "      <td>4</td>\n",
       "      <td>14</td>\n",
       "      <td>3</td>\n",
       "      <td>0</td>\n",
       "      <td>2</td>\n",
       "      <td>21</td>\n",
       "    </tr>\n",
       "    <tr>\n",
       "      <th>city_103</th>\n",
       "      <td>0.920</td>\n",
       "      <td>0</td>\n",
       "      <td>1</td>\n",
       "      <td>1</td>\n",
       "      <td>1</td>\n",
       "      <td>4</td>\n",
       "      <td>17</td>\n",
       "      <td>0</td>\n",
       "      <td>2</td>\n",
       "      <td>2</td>\n",
       "      <td>98</td>\n",
       "    </tr>\n",
       "    <tr>\n",
       "      <th>city_21</th>\n",
       "      <td>0.624</td>\n",
       "      <td>1</td>\n",
       "      <td>0</td>\n",
       "      <td>1</td>\n",
       "      <td>1</td>\n",
       "      <td>0</td>\n",
       "      <td>3</td>\n",
       "      <td>0</td>\n",
       "      <td>2</td>\n",
       "      <td>3</td>\n",
       "      <td>15</td>\n",
       "    </tr>\n",
       "    <tr>\n",
       "      <th>city_13</th>\n",
       "      <td>0.827</td>\n",
       "      <td>1</td>\n",
       "      <td>1</td>\n",
       "      <td>1</td>\n",
       "      <td>0</td>\n",
       "      <td>4</td>\n",
       "      <td>9</td>\n",
       "      <td>4</td>\n",
       "      <td>2</td>\n",
       "      <td>2</td>\n",
       "      <td>39</td>\n",
       "    </tr>\n",
       "    <tr>\n",
       "      <th>city_103</th>\n",
       "      <td>0.920</td>\n",
       "      <td>1</td>\n",
       "      <td>1</td>\n",
       "      <td>1</td>\n",
       "      <td>1</td>\n",
       "      <td>4</td>\n",
       "      <td>1</td>\n",
       "      <td>5</td>\n",
       "      <td>2</td>\n",
       "      <td>4</td>\n",
       "      <td>72</td>\n",
       "    </tr>\n",
       "    <tr>\n",
       "      <th>...</th>\n",
       "      <td>...</td>\n",
       "      <td>...</td>\n",
       "      <td>...</td>\n",
       "      <td>...</td>\n",
       "      <td>...</td>\n",
       "      <td>...</td>\n",
       "      <td>...</td>\n",
       "      <td>...</td>\n",
       "      <td>...</td>\n",
       "      <td>...</td>\n",
       "      <td>...</td>\n",
       "    </tr>\n",
       "    <tr>\n",
       "      <th>city_103</th>\n",
       "      <td>0.920</td>\n",
       "      <td>1</td>\n",
       "      <td>0</td>\n",
       "      <td>1</td>\n",
       "      <td>1</td>\n",
       "      <td>6</td>\n",
       "      <td>2</td>\n",
       "      <td>0</td>\n",
       "      <td>5</td>\n",
       "      <td>5</td>\n",
       "      <td>15</td>\n",
       "    </tr>\n",
       "    <tr>\n",
       "      <th>city_136</th>\n",
       "      <td>0.897</td>\n",
       "      <td>1</td>\n",
       "      <td>1</td>\n",
       "      <td>1</td>\n",
       "      <td>0</td>\n",
       "      <td>4</td>\n",
       "      <td>6</td>\n",
       "      <td>0</td>\n",
       "      <td>0</td>\n",
       "      <td>1</td>\n",
       "      <td>30</td>\n",
       "    </tr>\n",
       "    <tr>\n",
       "      <th>city_100</th>\n",
       "      <td>0.887</td>\n",
       "      <td>1</td>\n",
       "      <td>0</td>\n",
       "      <td>1</td>\n",
       "      <td>1</td>\n",
       "      <td>0</td>\n",
       "      <td>5</td>\n",
       "      <td>0</td>\n",
       "      <td>2</td>\n",
       "      <td>3</td>\n",
       "      <td>18</td>\n",
       "    </tr>\n",
       "    <tr>\n",
       "      <th>city_102</th>\n",
       "      <td>0.804</td>\n",
       "      <td>1</td>\n",
       "      <td>1</td>\n",
       "      <td>2</td>\n",
       "      <td>1</td>\n",
       "      <td>0</td>\n",
       "      <td>11</td>\n",
       "      <td>8</td>\n",
       "      <td>5</td>\n",
       "      <td>2</td>\n",
       "      <td>84</td>\n",
       "    </tr>\n",
       "    <tr>\n",
       "      <th>city_102</th>\n",
       "      <td>0.804</td>\n",
       "      <td>1</td>\n",
       "      <td>1</td>\n",
       "      <td>1</td>\n",
       "      <td>0</td>\n",
       "      <td>4</td>\n",
       "      <td>13</td>\n",
       "      <td>5</td>\n",
       "      <td>2</td>\n",
       "      <td>1</td>\n",
       "      <td>11</td>\n",
       "    </tr>\n",
       "  </tbody>\n",
       "</table>\n",
       "<p>2129 rows × 11 columns</p>\n",
       "</div>"
      ],
      "text/plain": [
       "          city_development_index  gender  relevent_experience  \\\n",
       "city                                                            \n",
       "city_41                    0.827       1                    1   \n",
       "city_103                   0.920       0                    1   \n",
       "city_21                    0.624       1                    0   \n",
       "city_13                    0.827       1                    1   \n",
       "city_103                   0.920       1                    1   \n",
       "...                          ...     ...                  ...   \n",
       "city_103                   0.920       1                    0   \n",
       "city_136                   0.897       1                    1   \n",
       "city_100                   0.887       1                    0   \n",
       "city_102                   0.804       1                    1   \n",
       "city_102                   0.804       1                    1   \n",
       "\n",
       "          enrolled_university  education_level  major_discipline  experience  \\\n",
       "city                                                                           \n",
       "city_41                     2                1                 4          14   \n",
       "city_103                    1                1                 4          17   \n",
       "city_21                     1                1                 0           3   \n",
       "city_13                     1                0                 4           9   \n",
       "city_103                    1                1                 4           1   \n",
       "...                       ...              ...               ...         ...   \n",
       "city_103                    1                1                 6           2   \n",
       "city_136                    1                0                 4           6   \n",
       "city_100                    1                1                 0           5   \n",
       "city_102                    2                1                 0          11   \n",
       "city_102                    1                0                 4          13   \n",
       "\n",
       "          company_size  company_type  last_new_job  training_hours  \n",
       "city                                                                \n",
       "city_41              3             0             2              21  \n",
       "city_103             0             2             2              98  \n",
       "city_21              0             2             3              15  \n",
       "city_13              4             2             2              39  \n",
       "city_103             5             2             4              72  \n",
       "...                ...           ...           ...             ...  \n",
       "city_103             0             5             5              15  \n",
       "city_136             0             0             1              30  \n",
       "city_100             0             2             3              18  \n",
       "city_102             8             5             2              84  \n",
       "city_102             5             2             1              11  \n",
       "\n",
       "[2129 rows x 11 columns]"
      ]
     },
     "execution_count": 8,
     "metadata": {},
     "output_type": "execute_result"
    }
   ],
   "source": [
    "data"
   ]
  },
  {
   "cell_type": "markdown",
   "metadata": {},
   "source": [
    "Выделяем целевую переменную"
   ]
  },
  {
   "cell_type": "code",
   "execution_count": 9,
   "metadata": {},
   "outputs": [],
   "source": [
    "target = data.education_level\n",
    "train = data.drop('education_level', axis = 1) "
   ]
  },
  {
   "cell_type": "code",
   "execution_count": 10,
   "metadata": {},
   "outputs": [
    {
     "name": "stdout",
     "output_type": "stream",
     "text": [
      "<class 'pandas.core.frame.DataFrame'>\n",
      "Index: 2129 entries, city_41 to city_102\n",
      "Data columns (total 10 columns):\n",
      " #   Column                  Non-Null Count  Dtype  \n",
      "---  ------                  --------------  -----  \n",
      " 0   city_development_index  2129 non-null   float64\n",
      " 1   gender                  2129 non-null   int32  \n",
      " 2   relevent_experience     2129 non-null   int32  \n",
      " 3   enrolled_university     2129 non-null   int64  \n",
      " 4   major_discipline        2129 non-null   int64  \n",
      " 5   experience              2129 non-null   int64  \n",
      " 6   company_size            2129 non-null   int64  \n",
      " 7   company_type            2129 non-null   int64  \n",
      " 8   last_new_job            2129 non-null   int64  \n",
      " 9   training_hours          2129 non-null   int64  \n",
      "dtypes: float64(1), int32(2), int64(7)\n",
      "memory usage: 166.3+ KB\n"
     ]
    }
   ],
   "source": [
    "train.info()"
   ]
  },
  {
   "cell_type": "markdown",
   "metadata": {},
   "source": [
    "Выделяем тренировочную и тестовую выборки"
   ]
  },
  {
   "cell_type": "code",
   "execution_count": 11,
   "metadata": {},
   "outputs": [
    {
     "name": "stdout",
     "output_type": "stream",
     "text": [
      "1490 639\n"
     ]
    }
   ],
   "source": [
    "#y - целевая переменнная (target)\n",
    "from sklearn.model_selection import train_test_split\n",
    "X_train, X_test, y_train, y_test = train_test_split(train, target, test_size = 0.3, random_state = 42)\n",
    "\n",
    "N_train, _ = X_train.shape \n",
    "N_test,  _ = X_test.shape \n",
    "print (N_train, N_test)"
   ]
  },
  {
   "cell_type": "markdown",
   "metadata": {},
   "source": [
    "Построим классификатор логистической регрессии"
   ]
  },
  {
   "cell_type": "code",
   "execution_count": 15,
   "metadata": {},
   "outputs": [
    {
     "data": {
      "text/plain": [
       "GridSearchCV(cv=10, estimator=LogisticRegression(solver='liblinear'),\n",
       "             param_grid={'C': array([1.e-05, 1.e-04, 1.e-03, 1.e-02, 1.e-01, 1.e+00, 1.e+01, 1.e+02,\n",
       "       1.e+03, 1.e+04, 1.e+05]),\n",
       "                         'penalty': ['l1', 'l2']})"
      ]
     },
     "execution_count": 15,
     "metadata": {},
     "output_type": "execute_result"
    }
   ],
   "source": [
    "from sklearn.linear_model import LogisticRegression\n",
    "from sklearn.model_selection import GridSearchCV\n",
    "from sklearn.model_selection import StratifiedKFold\n",
    "\n",
    "grid={\"C\":np.logspace(-5,5,11), \"penalty\":[\"l1\",\"l2\"]}\n",
    "logreg=LogisticRegression(solver='liblinear')\n",
    "logreg_cv=GridSearchCV(logreg,grid,cv=10)\n",
    "logreg_cv.fit(X_train,y_train)"
   ]
  },
  {
   "cell_type": "code",
   "execution_count": 32,
   "metadata": {},
   "outputs": [
    {
     "data": {
      "text/plain": [
       "{'mean_fit_time': array([0.00747979, 0.00807807, 0.00758743, 0.00917096, 0.00787861,\n",
       "        0.01006553, 0.00797901, 0.01076093, 0.01516466, 0.0137713 ,\n",
       "        0.03100114, 0.016854  , 0.03789721, 0.01795092, 0.0413918 ,\n",
       "        0.01864216, 0.04098885, 0.01834991, 0.03949306, 0.01835465,\n",
       "        0.04059699, 0.0183552 ]),\n",
       " 'std_fit_time': array([0.00091921, 0.00029899, 0.00049503, 0.00132693, 0.00053869,\n",
       "        0.00081854, 0.00063269, 0.00039341, 0.00115912, 0.00059313,\n",
       "        0.00553769, 0.00053689, 0.0063233 , 0.00077242, 0.00545207,\n",
       "        0.00133293, 0.00291408, 0.00101699, 0.00605344, 0.00091076,\n",
       "        0.00285599, 0.00079562]),\n",
       " 'mean_score_time': array([0.00438824, 0.00378995, 0.0043808 , 0.00409324, 0.00407872,\n",
       "        0.00370421, 0.00379372, 0.00379453, 0.00358655, 0.00358999,\n",
       "        0.00380104, 0.00359149, 0.00359175, 0.00359132, 0.003791  ,\n",
       "        0.00389476, 0.00389071, 0.00379086, 0.00349183, 0.00378668,\n",
       "        0.00378449, 0.00358119]),\n",
       " 'std_score_time': array([0.00079899, 0.0003989 , 0.00065578, 0.00028329, 0.00030249,\n",
       "        0.00044384, 0.00040137, 0.00040092, 0.00049493, 0.00048912,\n",
       "        0.00039629, 0.00048858, 0.00048869, 0.00048868, 0.00039895,\n",
       "        0.00053361, 0.00053751, 0.00039905, 0.00049896, 0.00039652,\n",
       "        0.00039735, 0.00049018]),\n",
       " 'param_C': masked_array(data=[1e-05, 1e-05, 0.0001, 0.0001, 0.001, 0.001, 0.01, 0.01,\n",
       "                    0.1, 0.1, 1.0, 1.0, 10.0, 10.0, 100.0, 100.0, 1000.0,\n",
       "                    1000.0, 10000.0, 10000.0, 100000.0, 100000.0],\n",
       "              mask=[False, False, False, False, False, False, False, False,\n",
       "                    False, False, False, False, False, False, False, False,\n",
       "                    False, False, False, False, False, False],\n",
       "        fill_value='?',\n",
       "             dtype=object),\n",
       " 'param_penalty': masked_array(data=['l1', 'l2', 'l1', 'l2', 'l1', 'l2', 'l1', 'l2', 'l1',\n",
       "                    'l2', 'l1', 'l2', 'l1', 'l2', 'l1', 'l2', 'l1', 'l2',\n",
       "                    'l1', 'l2', 'l1', 'l2'],\n",
       "              mask=[False, False, False, False, False, False, False, False,\n",
       "                    False, False, False, False, False, False, False, False,\n",
       "                    False, False, False, False, False, False],\n",
       "        fill_value='?',\n",
       "             dtype=object),\n",
       " 'params': [{'C': 1e-05, 'penalty': 'l1'},\n",
       "  {'C': 1e-05, 'penalty': 'l2'},\n",
       "  {'C': 0.0001, 'penalty': 'l1'},\n",
       "  {'C': 0.0001, 'penalty': 'l2'},\n",
       "  {'C': 0.001, 'penalty': 'l1'},\n",
       "  {'C': 0.001, 'penalty': 'l2'},\n",
       "  {'C': 0.01, 'penalty': 'l1'},\n",
       "  {'C': 0.01, 'penalty': 'l2'},\n",
       "  {'C': 0.1, 'penalty': 'l1'},\n",
       "  {'C': 0.1, 'penalty': 'l2'},\n",
       "  {'C': 1.0, 'penalty': 'l1'},\n",
       "  {'C': 1.0, 'penalty': 'l2'},\n",
       "  {'C': 10.0, 'penalty': 'l1'},\n",
       "  {'C': 10.0, 'penalty': 'l2'},\n",
       "  {'C': 100.0, 'penalty': 'l1'},\n",
       "  {'C': 100.0, 'penalty': 'l2'},\n",
       "  {'C': 1000.0, 'penalty': 'l1'},\n",
       "  {'C': 1000.0, 'penalty': 'l2'},\n",
       "  {'C': 10000.0, 'penalty': 'l1'},\n",
       "  {'C': 10000.0, 'penalty': 'l2'},\n",
       "  {'C': 100000.0, 'penalty': 'l1'},\n",
       "  {'C': 100000.0, 'penalty': 'l2'}],\n",
       " 'split0_test_score': array([0.22147651, 0.77852349, 0.77852349, 0.77852349, 0.77852349,\n",
       "        0.77852349, 0.77852349, 0.77852349, 0.77852349, 0.77852349,\n",
       "        0.77852349, 0.77852349, 0.77181208, 0.77852349, 0.77181208,\n",
       "        0.77181208, 0.77181208, 0.77181208, 0.77181208, 0.77181208,\n",
       "        0.77181208, 0.77181208]),\n",
       " 'split1_test_score': array([0.22147651, 0.77852349, 0.77852349, 0.77852349, 0.77852349,\n",
       "        0.77852349, 0.77852349, 0.77852349, 0.77852349, 0.77852349,\n",
       "        0.7852349 , 0.79194631, 0.7852349 , 0.7852349 , 0.7852349 ,\n",
       "        0.7852349 , 0.7852349 , 0.7852349 , 0.7852349 , 0.7852349 ,\n",
       "        0.7852349 , 0.7852349 ]),\n",
       " 'split2_test_score': array([0.22818792, 0.77181208, 0.77181208, 0.77181208, 0.77181208,\n",
       "        0.77181208, 0.77181208, 0.77181208, 0.77181208, 0.77852349,\n",
       "        0.77181208, 0.77181208, 0.77852349, 0.77852349, 0.77852349,\n",
       "        0.77852349, 0.77852349, 0.77852349, 0.77852349, 0.77852349,\n",
       "        0.77852349, 0.77852349]),\n",
       " 'split3_test_score': array([0.22818792, 0.77181208, 0.77181208, 0.77181208, 0.77181208,\n",
       "        0.77181208, 0.77181208, 0.77181208, 0.77852349, 0.77181208,\n",
       "        0.77181208, 0.77181208, 0.77181208, 0.77181208, 0.77181208,\n",
       "        0.77181208, 0.77181208, 0.77181208, 0.77181208, 0.77181208,\n",
       "        0.77181208, 0.77181208]),\n",
       " 'split4_test_score': array([0.22818792, 0.77181208, 0.77181208, 0.77181208, 0.77181208,\n",
       "        0.77181208, 0.77181208, 0.77181208, 0.77181208, 0.77181208,\n",
       "        0.77181208, 0.77181208, 0.77181208, 0.77181208, 0.77181208,\n",
       "        0.77181208, 0.77181208, 0.77181208, 0.77181208, 0.77181208,\n",
       "        0.77181208, 0.77181208]),\n",
       " 'split5_test_score': array([0.22818792, 0.77181208, 0.77181208, 0.77181208, 0.77181208,\n",
       "        0.77181208, 0.77181208, 0.77181208, 0.77181208, 0.77181208,\n",
       "        0.76510067, 0.77181208, 0.76510067, 0.76510067, 0.76510067,\n",
       "        0.76510067, 0.76510067, 0.76510067, 0.76510067, 0.76510067,\n",
       "        0.76510067, 0.76510067]),\n",
       " 'split6_test_score': array([0.22818792, 0.77181208, 0.77181208, 0.77181208, 0.77181208,\n",
       "        0.77181208, 0.77181208, 0.77181208, 0.77181208, 0.76510067,\n",
       "        0.72483221, 0.74496644, 0.72483221, 0.72483221, 0.72483221,\n",
       "        0.72483221, 0.72483221, 0.72483221, 0.72483221, 0.72483221,\n",
       "        0.72483221, 0.72483221]),\n",
       " 'split7_test_score': array([0.22818792, 0.77181208, 0.77181208, 0.77181208, 0.77181208,\n",
       "        0.77181208, 0.77181208, 0.77181208, 0.77181208, 0.77181208,\n",
       "        0.75167785, 0.76510067, 0.74496644, 0.74496644, 0.74496644,\n",
       "        0.74496644, 0.74496644, 0.74496644, 0.74496644, 0.74496644,\n",
       "        0.74496644, 0.74496644]),\n",
       " 'split8_test_score': array([0.22818792, 0.77181208, 0.77181208, 0.77181208, 0.77181208,\n",
       "        0.77181208, 0.77181208, 0.77181208, 0.77181208, 0.77181208,\n",
       "        0.74496644, 0.75167785, 0.74496644, 0.74496644, 0.74496644,\n",
       "        0.74496644, 0.74496644, 0.74496644, 0.74496644, 0.74496644,\n",
       "        0.74496644, 0.74496644]),\n",
       " 'split9_test_score': array([0.22818792, 0.77181208, 0.77181208, 0.77181208, 0.77181208,\n",
       "        0.77181208, 0.77181208, 0.77181208, 0.77181208, 0.77181208,\n",
       "        0.77181208, 0.77181208, 0.77181208, 0.77181208, 0.77852349,\n",
       "        0.77852349, 0.77852349, 0.77852349, 0.77852349, 0.77852349,\n",
       "        0.77852349, 0.77181208]),\n",
       " 'mean_test_score': array([0.22684564, 0.77315436, 0.77315436, 0.77315436, 0.77315436,\n",
       "        0.77315436, 0.77315436, 0.77315436, 0.7738255 , 0.77315436,\n",
       "        0.76375839, 0.76912752, 0.76308725, 0.76375839, 0.76375839,\n",
       "        0.76375839, 0.76375839, 0.76375839, 0.76375839, 0.76375839,\n",
       "        0.76375839, 0.76308725]),\n",
       " 'std_test_score': array([0.00268456, 0.00268456, 0.00268456, 0.00268456, 0.00268456,\n",
       "        0.00268456, 0.00268456, 0.00268456, 0.00307555, 0.00402685,\n",
       "        0.0171896 , 0.01244781, 0.0177694 , 0.0182076 , 0.0182076 ,\n",
       "        0.0182076 , 0.0182076 , 0.0182076 , 0.0182076 , 0.0182076 ,\n",
       "        0.0182076 , 0.0177694 ]),\n",
       " 'rank_test_score': array([22,  3,  3,  3,  3,  3,  3,  3,  1,  2, 11, 10, 20, 11, 11, 11, 11,\n",
       "        11, 11, 11, 11, 20])}"
      ]
     },
     "execution_count": 32,
     "metadata": {},
     "output_type": "execute_result"
    }
   ],
   "source": [
    "#проверка точности на тестовых данных\n",
    "logreg_cv.cv_results_"
   ]
  },
  {
   "cell_type": "code",
   "execution_count": 31,
   "metadata": {},
   "outputs": [
    {
     "data": {
      "text/plain": [
       "LogisticRegression(C=0.1, penalty='l1', solver='liblinear')"
      ]
     },
     "execution_count": 31,
     "metadata": {},
     "output_type": "execute_result"
    }
   ],
   "source": [
    "logreg_cv.best_estimator_ "
   ]
  },
  {
   "cell_type": "code",
   "execution_count": 116,
   "metadata": {},
   "outputs": [
    {
     "name": "stdout",
     "output_type": "stream",
     "text": [
      "city_development_index\tl1 =\t0.22818791946308725\tl2 =\t0.7718120805369127\n",
      "gender\tl1 =\t0.7718120805369127\tl2 =\t0.7718120805369127\n",
      "relevent_experience\tl1 =\t0.7718120805369127\tl2 =\t0.7718120805369127\n",
      "enrolled_university\tl1 =\t0.7718120805369127\tl2 =\t0.7718120805369127\n",
      "education_level\tl1 =\t0.7718120805369127\tl2 =\t0.7718120805369127\n",
      "major_discipline\tl1 =\t0.7785234899328859\tl2 =\t0.7785234899328859\n",
      "experience\tl1 =\t0.7718120805369127\tl2 =\t0.7718120805369127\n",
      "company_size\tl1 =\t0.7718120805369127\tl2 =\t0.7718120805369127\n",
      "company_type\tl1 =\t0.7718120805369127\tl2 =\t0.7718120805369127\n",
      "last_new_job\tl1 =\t0.7718120805369127\tl2 =\t0.7718120805369127\n",
      "training_hours\tl1 =\t0.7718120805369127\tl2 =\t0.7718120805369127\n"
     ]
    }
   ],
   "source": [
    "#вывод подобранных параметров GreedSearchCV для каждого признака\n",
    "answ = []\n",
    "answ = logreg_cv.cv_results_['split9_test_score']\n",
    "\n",
    "i = 0\n",
    "for ind in data.columns:\n",
    "    print(ind, \"l1 =\", answ[i], \"l2 =\", answ[i+1], sep = '\\t')\n",
    "    i += 2"
   ]
  },
  {
   "cell_type": "markdown",
   "metadata": {},
   "source": [
    "Оценим точность построенного классификатора с помощью метрик precision, recall и F1 на тестов"
   ]
  },
  {
   "cell_type": "code",
   "execution_count": 22,
   "metadata": {},
   "outputs": [
    {
     "name": "stdout",
     "output_type": "stream",
     "text": [
      "f1:0.8586803331197951\n",
      "precision:0.7535620547431571\n",
      "recall:0.9979381443298969\n"
     ]
    }
   ],
   "source": [
    "from sklearn.model_selection import cross_val_score\n",
    "print(\"f1:\"+str(np.average(cross_val_score(logreg_cv, X_test, y_test, scoring='f1'))))\n",
    "print(\"precision:\"+str(np.average(cross_val_score(logreg_cv, X_test, y_test, scoring='precision'))))\n",
    "print(\"recall:\"+str(np.average(cross_val_score(logreg_cv, X_test, y_test, scoring='recall'))))"
   ]
  },
  {
   "cell_type": "markdown",
   "metadata": {},
   "source": [
    "Построим классификатор типа Случайный Лес (Random Forest) для решения той же задачи классификации"
   ]
  },
  {
   "cell_type": "code",
   "execution_count": 23,
   "metadata": {},
   "outputs": [
    {
     "data": {
      "text/plain": [
       "GridSearchCV(cv=5, estimator=RandomForestClassifier(),\n",
       "             param_grid={'criterion': ['gini'],\n",
       "                         'max_depth': [1, 2, 3, 4, 5, 6, 7, 8, 9],\n",
       "                         'max_features': ['auto'],\n",
       "                         'n_estimators': [50, 100, 150]})"
      ]
     },
     "execution_count": 23,
     "metadata": {},
     "output_type": "execute_result"
    }
   ],
   "source": [
    "from sklearn.ensemble import RandomForestClassifier \n",
    "param_grid = { 'n_estimators': [50, 100, 150],'max_features': ['auto'],'max_depth' : list(range(1, 10)), 'criterion' :['gini']}\n",
    "RandForCrit = GridSearchCV(estimator = RandomForestClassifier(), param_grid = param_grid, cv = 5, refit = True) \n",
    "RandForCrit.fit(X_test, y_test)"
   ]
  },
  {
   "cell_type": "markdown",
   "metadata": {},
   "source": [
    "Оценим точность построенного классификатора с помощью метрик precision, recall и F1"
   ]
  },
  {
   "cell_type": "code",
   "execution_count": 24,
   "metadata": {},
   "outputs": [
    {
     "name": "stdout",
     "output_type": "stream",
     "text": [
      "f1:0.8589274681471991\n",
      "precision:0.7527436023622047\n",
      "recall:1.0\n"
     ]
    }
   ],
   "source": [
    "print(\"f1:\"+str(np.average(cross_val_score(RandForCrit.best_estimator_, X_test, y_test, scoring='f1'))))\n",
    "print(\"precision:\"+str(np.average(cross_val_score(RandForCrit.best_estimator_, X_test, y_test, scoring='precision'))))\n",
    "print(\"recall:\"+str(np.average(cross_val_score(RandForCrit.best_estimator_, X_test, y_test, scoring='recall'))))"
   ]
  },
  {
   "cell_type": "markdown",
   "metadata": {},
   "source": [
    "Оценим точность построенного классификатора с помощью метрик precision, recall и F1 на тестовой выборке"
   ]
  },
  {
   "cell_type": "code",
   "execution_count": 112,
   "metadata": {},
   "outputs": [
    {
     "name": "stdout",
     "output_type": "stream",
     "text": [
      "f1:0.8712088820250006\n",
      "precision:0.7728470386188507\n",
      "recall:0.9982608695652175\n"
     ]
    }
   ],
   "source": [
    "from sklearn.model_selection import cross_val_score\n",
    "print(\"f1:\"+str(np.average(cross_val_score(logreg_cv, X_train, y_train, scoring='f1'))))\n",
    "print(\"precision:\"+str(np.average(cross_val_score(logreg_cv, X_train, y_train, scoring='precision'))))\n",
    "print(\"recall:\"+str(np.average(cross_val_score(logreg_cv, X_train, y_train, scoring='recall'))))"
   ]
  },
  {
   "cell_type": "markdown",
   "metadata": {},
   "source": [
    "Построим классификатор типа Случайный Лес (Random Forest) для решения той же задачи классификации"
   ]
  },
  {
   "cell_type": "code",
   "execution_count": 43,
   "metadata": {},
   "outputs": [
    {
     "data": {
      "text/plain": [
       "GridSearchCV(cv=5, estimator=RandomForestClassifier(),\n",
       "             param_grid={'criterion': ['gini'],\n",
       "                         'max_depth': [1, 2, 3, 4, 5, 6, 7, 8, 9],\n",
       "                         'max_features': ['auto'],\n",
       "                         'n_estimators': [50, 100, 150]})"
      ]
     },
     "execution_count": 43,
     "metadata": {},
     "output_type": "execute_result"
    }
   ],
   "source": [
    "from sklearn.ensemble import RandomForestClassifier \n",
    "param_grid = { 'n_estimators': [50, 100, 150],'max_features': ['auto'],'max_depth' : list(range(1, 10)), 'criterion' :['gini']}\n",
    "RandForCrit = GridSearchCV(estimator = RandomForestClassifier(), param_grid = param_grid, cv = 5, refit = True) \n",
    "RandForCrit.fit(X_train, y_train)"
   ]
  },
  {
   "cell_type": "markdown",
   "metadata": {},
   "source": [
    "Оценим точность построенного классификатора с помощью метрик precision, recall и F1 на тестовой выборке"
   ]
  },
  {
   "cell_type": "code",
   "execution_count": 44,
   "metadata": {},
   "outputs": [
    {
     "name": "stdout",
     "output_type": "stream",
     "text": [
      "f1:0.8756736809001595\n",
      "precision:0.7853222769793562\n",
      "recall:0.9878524374176549\n"
     ]
    }
   ],
   "source": [
    "print(\"f1:\"+str(np.average(cross_val_score(RandForCrit.best_estimator_, X_train, y_train, scoring='f1'))))\n",
    "print(\"precision:\"+str(np.average(cross_val_score(RandForCrit.best_estimator_, X_train, y_train, scoring='precision'))))\n",
    "print(\"recall:\"+str(np.average(cross_val_score(RandForCrit.best_estimator_, X_train, y_train, scoring='recall'))))"
   ]
  },
  {
   "cell_type": "markdown",
   "metadata": {},
   "source": [
    "Сравним результаты:"
   ]
  },
  {
   "cell_type": "markdown",
   "metadata": {},
   "source": [
    "f1 - лучше у классификатора Случайного леса"
   ]
  },
  {
   "cell_type": "markdown",
   "metadata": {},
   "source": [
    "precision - лучше у классификатора Случайного леса"
   ]
  },
  {
   "cell_type": "markdown",
   "metadata": {},
   "source": [
    "recall - лучше у классификатора Логистической регрессии"
   ]
  }
 ],
 "metadata": {
  "kernelspec": {
   "display_name": "Python 3",
   "language": "python",
   "name": "python3"
  },
  "language_info": {
   "codemirror_mode": {
    "name": "ipython",
    "version": 3
   },
   "file_extension": ".py",
   "mimetype": "text/x-python",
   "name": "python",
   "nbconvert_exporter": "python",
   "pygments_lexer": "ipython3",
   "version": "3.8.5"
  }
 },
 "nbformat": 4,
 "nbformat_minor": 4
}
