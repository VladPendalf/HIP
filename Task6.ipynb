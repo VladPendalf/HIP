{
 "cells": [
  {
   "cell_type": "markdown",
   "metadata": {},
   "source": [
    "Практическое задание 6\n",
    "\n",
    "КМБО-06-20, Бундуки Владислав, Вариант 4\n",
    "\n",
    "Тема: \"Популярные деревья в районах Нью-Йорка\""
   ]
  },
  {
   "cell_type": "markdown",
   "metadata": {},
   "source": [
    "Исходные данные:\n",
    "1)Набор данных - https://www.kaggle.com/new-york-city/ny-2015-street-tree-census-tree-data?select=2015-street-tree-census-tree-data.csv\n",
    "\n",
    " \n",
    "Задачи:\n",
    "\n",
    "1)Выделить районы, в которых состояние деревьев аномально хорошее или плохое;\n",
    "\n",
    "2)Выделить наилучший район по состоянию деревьев;\n",
    "\n",
    "3)Выделить виды деревьев (или более общие элементы классификации), обладающие наилучшими показателями «здоровья»"
   ]
  },
  {
   "cell_type": "code",
   "execution_count": 1,
   "metadata": {},
   "outputs": [],
   "source": [
    "import pandas as pd\n",
    "import numpy as np\n",
    "import matplotlib.pyplot as plt # библиотека для визуализации\n",
    "import seaborn as sns\n",
    "sns.set(style=\"white\", color_codes=True)\n",
    "%matplotlib inline\n",
    "import warnings\n",
    "warnings.filterwarnings('ignore')\n",
    "data = pd.read_csv('2015-street-tree-census-tree-data.csv')"
   ]
  },
  {
   "cell_type": "code",
   "execution_count": 2,
   "metadata": {},
   "outputs": [
    {
     "name": "stdout",
     "output_type": "stream",
     "text": [
      "<class 'pandas.core.frame.DataFrame'>\n",
      "RangeIndex: 683788 entries, 0 to 683787\n",
      "Data columns (total 45 columns):\n",
      " #   Column            Non-Null Count   Dtype  \n",
      "---  ------            --------------   -----  \n",
      " 0   tree_id           683788 non-null  int64  \n",
      " 1   block_id          683788 non-null  int64  \n",
      " 2   created_at        683788 non-null  object \n",
      " 3   tree_dbh          683788 non-null  int64  \n",
      " 4   stump_diam        683788 non-null  int64  \n",
      " 5   curb_loc          683788 non-null  object \n",
      " 6   status            683788 non-null  object \n",
      " 7   health            652172 non-null  object \n",
      " 8   spc_latin         652169 non-null  object \n",
      " 9   spc_common        652169 non-null  object \n",
      " 10  steward           652173 non-null  object \n",
      " 11  guards            652172 non-null  object \n",
      " 12  sidewalk          652172 non-null  object \n",
      " 13  user_type         683788 non-null  object \n",
      " 14  problems          652124 non-null  object \n",
      " 15  root_stone        683788 non-null  object \n",
      " 16  root_grate        683788 non-null  object \n",
      " 17  root_other        683788 non-null  object \n",
      " 18  trunk_wire        683788 non-null  object \n",
      " 19  trnk_light        683788 non-null  object \n",
      " 20  trnk_other        683788 non-null  object \n",
      " 21  brch_light        683788 non-null  object \n",
      " 22  brch_shoe         683788 non-null  object \n",
      " 23  brch_other        683788 non-null  object \n",
      " 24  address           683788 non-null  object \n",
      " 25  postcode          683788 non-null  int64  \n",
      " 26  zip_city          683788 non-null  object \n",
      " 27  community board   683788 non-null  int64  \n",
      " 28  borocode          683788 non-null  int64  \n",
      " 29  borough           683788 non-null  object \n",
      " 30  cncldist          683788 non-null  int64  \n",
      " 31  st_assem          683788 non-null  int64  \n",
      " 32  st_senate         683788 non-null  int64  \n",
      " 33  nta               683788 non-null  object \n",
      " 34  nta_name          683788 non-null  object \n",
      " 35  boro_ct           683788 non-null  int64  \n",
      " 36  state             683788 non-null  object \n",
      " 37  latitude          683788 non-null  float64\n",
      " 38  longitude         683788 non-null  float64\n",
      " 39  x_sp              683788 non-null  float64\n",
      " 40  y_sp              683788 non-null  float64\n",
      " 41  council district  677269 non-null  float64\n",
      " 42  census tract      677269 non-null  float64\n",
      " 43  bin               674229 non-null  float64\n",
      " 44  bbl               674229 non-null  float64\n",
      "dtypes: float64(8), int64(11), object(26)\n",
      "memory usage: 234.8+ MB\n"
     ]
    }
   ],
   "source": [
    "data.info()"
   ]
  },
  {
   "cell_type": "markdown",
   "metadata": {},
   "source": [
    "Нормируем числовые признаки и обрабатываем категориальные признаки:"
   ]
  },
  {
   "cell_type": "code",
   "execution_count": 3,
   "metadata": {},
   "outputs": [],
   "source": [
    "import math\n",
    "arr = ['block_id','tree_dbh','stump_diam','postcode','community board','cncldist','st_assem','st_senate','latitude','longitude','x_sp','y_sp']\n",
    "for column in arr:\n",
    "    data[column] = (data[column] - data[column].mean())/(math.sqrt(data[column].var()))\n",
    "    \n",
    "data['state'] = np.where(data['state'] == 'New York', 1, 0)\n",
    "\n",
    "#Расположено ли дерево вдоль бордюра или со смещением от него\n",
    "data['curb_loc'] = np.where(data['curb_loc'] == 'OnCurb', 1, 0)\n",
    "\n",
    "#Повреждение тратуара в непосредственной близости от дерева\n",
    "data['sidewalk'] = np.where(data['sidewalk'] == 'Damage', 1, 0)\n",
    "\n",
    "#Указывает на наличие проблемы с корнями, вызванной брусчаткой в ложе дерева\n",
    "data['root_stone'] = np.where(data['root_stone'] == 'Yes', 1, 0)\n",
    "\n",
    "#Указывает на наличие проблемы с корнями, вызванной металлическими решетками в ложе дерева\n",
    "data['root_grate'] = np.where(data['root_grate'] == 'Yes', 1, 0)\n",
    "\n",
    "#Указывает на наличие других корневых проблем\n",
    "data['root_other'] = np.where(data['root_other'] == 'Yes', 1, 0)\n",
    "\n",
    "#Указывает на наличие проблемы со стволом, вызванной проволокой или веревкой, обмотанной вокруг ствола\n",
    "data['trunk_wire'] = np.where(data['trunk_wire'] == 'Yes', 1, 0)\n",
    "\n",
    "#Указывает на наличие проблем со стволом, вызванных установленным на дереве освещением\n",
    "data['trnk_light'] = np.where(data['trnk_light'] == 'Yes', 1, 0)\n",
    "\n",
    "#Указывает на наличие других проблем с магистралью\n",
    "data['trnk_other'] = np.where(data['trnk_other'] == 'Yes', 1, 0)\n",
    "\n",
    "#Указывает на наличие проблемы с ветвями, вызванной светильниками (обычно струнными) или проводами в ветвях\n",
    "data['brch_light'] = np.where(data['brch_light'] == 'Yes', 1, 0)\n",
    "\n",
    "#Указывает на наличие проблемы с ветками, вызванной кроссовками в ветках\n",
    "data['brch_shoe'] = np.where(data['brch_shoe'] == 'Yes', 1, 0)\n",
    "\n",
    "#Указывает на наличие других проблем с ветвями\n",
    "data['brch_other'] = np.where(data['brch_other'] == 'Yes', 1, 0)\n",
    "\n",
    "#Город, полученный из почтового индекса\n",
    "my_set = set(data.zip_city)\n",
    "i = 0\n",
    "for item in my_set:\n",
    "    data['zip_city'] = data['zip_city'].replace(item, i)\n",
    "    i = i + 1\n",
    "\n",
    "#Это название NTA, соответствующее области табуляции района по переписи населения США 2010 года, в которую попадает точка дерева\n",
    "my_set = set(data.nta_name)\n",
    "i = 0\n",
    "for item in my_set:\n",
    "    data['nta_name'] = data['nta_name'].replace(item, i)\n",
    "    i = i + 1\n",
    "\n",
    "#Это код NTA, соответствующий району, в который попадает точка дерева, согласно переписи населения США 2010 года.\n",
    "my_set = set(data.nta)\n",
    "i = 0\n",
    "for item in my_set:\n",
    "    data['nta'] = data['nta'].replace(item, i)\n",
    "    i = i + 1\n",
    "\n",
    "#Название района, в котором находится точка произрастания деревьев\n",
    "my_set = set(data.borough)\n",
    "i = 0\n",
    "for item in my_set:\n",
    "    data['borough'] = data['borough'].replace(item, i)\n",
    "    i = i + 1\n",
    "\n",
    "#Город, полученный из почтового индекса. Часто (но не всегда) это то же самое, что и район.\n",
    "my_set = set(data.postcode)\n",
    "i = 0\n",
    "for item in my_set:\n",
    "    data['postcode'] = data['postcode'].replace(item, i)\n",
    "    i = i + 1\n",
    "\n",
    "#Указывает, присутствует ли ограждение, и считает ли пользователь, что это полезное или вредное ограждение. Не регистрируется для мертвых деревьев и пней.\n",
    "my_set = set(data.guards)\n",
    "i = 0\n",
    "for item in my_set:\n",
    "    data['guards'] = data['guards'].replace(item, i)\n",
    "    i = i + 1\n",
    "\n",
    "#Это поле описывает категорию пользователя, который собрал данные этой точки дерева.\n",
    "my_set = set(data.user_type)\n",
    "i = 0\n",
    "for item in my_set:\n",
    "    data['user_type'] = data['user_type'].replace(item, i)\n",
    "    i = i + 1    \n",
    "    \n",
    "#Указывает количество уникальных признаков бережного отношения, отмеченных для данного дерева. Не регистрируется для пней или мертвых деревьев.\n",
    "my_set = set(data.steward)\n",
    "i = 0\n",
    "for item in my_set:\n",
    "    data['steward'] = data['steward'].replace(item, i)\n",
    "    i = i + 1\n",
    "\n",
    "#Общее название вида, например, \"красный клен\"\n",
    "my_set = set(data.spc_common)\n",
    "i = 0\n",
    "for item in my_set:\n",
    "    data['spc_common'] = data['spc_common'].replace(item, i)\n",
    "    i = i + 1\n",
    "    \n",
    "#Научное название вида, например, \"Acer rubrum\".\n",
    "my_set = set(data.spc_latin)\n",
    "i = 0\n",
    "for item in my_set:\n",
    "    data['spc_latin'] = data['spc_latin'].replace(item, i)\n",
    "    i = i + 1\n",
    "\n",
    "\n",
    "#Здоровье деревьев    \n",
    "my_set = set(data.health)\n",
    "i = 0\n",
    "for item in my_set:\n",
    "    data['health'] = data['health'].replace(item, i)\n",
    "    i = i + 1    \n",
    "    \n",
    "data.loc[data.health == 'NaN', 'health'] = 0      \n",
    "data.loc[data.health == 0, 'health'] = 3       \n",
    "    \n",
    "#Указывает, является ли дерево живым, стоящим мертвым или пнем.\n",
    "data.loc[data.status == 'Alive', 'status'] = 2\n",
    "data.loc[data.status == 'Stump', 'status'] = 1\n",
    "data.loc[data.status == 'Dead', 'status'] = 0\n",
    "\n",
    "data.loc[data.spc_latin == 'NaN', 'spc_latin'] = 0\n",
    "data.loc[data.spc_common == 'NaN', 'spc_common'] = 0\n",
    "data.loc[data.steward == 'NaN', 'steward'] = 0\n",
    "data.loc[data.guards == 'NaN', 'guards'] = 0\n",
    "data.loc[data.sidewalk == 'NaN', 'sidewalk'] = 0"
   ]
  },
  {
   "cell_type": "code",
   "execution_count": 4,
   "metadata": {},
   "outputs": [],
   "source": [
    "#исключим столбец с уникальными значениями: tree_id\n",
    "data = data.drop('tree_id', axis = 1)\n",
    "\n",
    "#исключим столбец, включающий результаты других столбцов\n",
    "data = data.drop('problems', axis = 1)\n",
    "\n",
    "#исключим столбец с индивидуальными параметрами\n",
    "data = data.drop('created_at', axis = 1)\n",
    "\n",
    "#исключим столбец с индивидуальными параметрами\n",
    "data = data.drop('address', axis = 1)\n",
    "\n",
    "#исключим столбцы с признаками, которые отсутствуют в документации\n",
    "data = data.drop('council district', axis = 1)\n",
    "data = data.drop('census tract', axis = 1)\n",
    "data = data.drop('bin', axis = 1)\n",
    "data = data.drop('bbl', axis = 1)"
   ]
  },
  {
   "cell_type": "markdown",
   "metadata": {},
   "source": [
    "ЗАДАЧА 1. Выделить районы, в которых состояние деревьев аномально хорошее или плохое."
   ]
  },
  {
   "cell_type": "markdown",
   "metadata": {},
   "source": [
    "ЗАДАЧА 2. Выделить наилучший район по состоянию деревьев."
   ]
  },
  {
   "cell_type": "code",
   "execution_count": 8,
   "metadata": {},
   "outputs": [
    {
     "data": {
      "text/plain": [
       "0         0\n",
       "1         1\n",
       "2         0\n",
       "3         1\n",
       "4         1\n",
       "         ..\n",
       "683783    0\n",
       "683784    0\n",
       "683785    0\n",
       "683786    0\n",
       "683787    0\n",
       "Length: 683788, dtype: int32"
      ]
     },
     "execution_count": 8,
     "metadata": {},
     "output_type": "execute_result"
    }
   ],
   "source": [
    "#Создадим новый признак - problems {тип: число}, состоит из суммы положительных ответов о проблемах корней \n",
    "#Чем больше значение problems - тем состояние дерева хуже\n",
    "problems = []\n",
    "problems = (data['root_stone'] + data['root_grate'] + data['root_other'] + data['trunk_wire'] + data['trnk_light'] + data['trnk_other'] + data['brch_light'] + data['brch_shoe'] + data['brch_other'])"
   ]
  },
  {
   "cell_type": "code",
   "execution_count": 9,
   "metadata": {},
   "outputs": [
    {
     "data": {
      "text/plain": [
       "0    457944\n",
       "1    162552\n",
       "2     47750\n",
       "3     12716\n",
       "4      2524\n",
       "5       249\n",
       "6        49\n",
       "7         2\n",
       "9         1\n",
       "8         1\n",
       "dtype: int64"
      ]
     },
     "execution_count": 9,
     "metadata": {},
     "output_type": "execute_result"
    }
   ],
   "source": [
    "problems.value_counts()"
   ]
  },
  {
   "cell_type": "code",
   "execution_count": 12,
   "metadata": {},
   "outputs": [
    {
     "ename": "IndexError",
     "evalue": "list index out of range",
     "output_type": "error",
     "traceback": [
      "\u001b[1;31m---------------------------------------------------------------------------\u001b[0m",
      "\u001b[1;31mIndexError\u001b[0m                                Traceback (most recent call last)",
      "\u001b[1;32m<ipython-input-12-269ba726c866>\u001b[0m in \u001b[0;36m<module>\u001b[1;34m\u001b[0m\n\u001b[0;32m      3\u001b[0m \u001b[0mi\u001b[0m \u001b[1;33m=\u001b[0m \u001b[1;36m0\u001b[0m\u001b[1;33m\u001b[0m\u001b[1;33m\u001b[0m\u001b[0m\n\u001b[0;32m      4\u001b[0m \u001b[1;32mfor\u001b[0m \u001b[0mcolumn\u001b[0m \u001b[1;32min\u001b[0m \u001b[0mdata\u001b[0m\u001b[1;33m[\u001b[0m\u001b[1;34m'borough'\u001b[0m\u001b[1;33m]\u001b[0m\u001b[1;33m:\u001b[0m\u001b[1;33m\u001b[0m\u001b[1;33m\u001b[0m\u001b[0m\n\u001b[1;32m----> 5\u001b[1;33m     \u001b[0mres\u001b[0m\u001b[1;33m[\u001b[0m\u001b[0mcolumn\u001b[0m\u001b[1;33m]\u001b[0m \u001b[1;33m+=\u001b[0m \u001b[0mproblems\u001b[0m\u001b[1;33m.\u001b[0m\u001b[0mcomponents_\u001b[0m\u001b[1;33m[\u001b[0m\u001b[0mi\u001b[0m\u001b[1;33m]\u001b[0m\u001b[1;33m\u001b[0m\u001b[1;33m\u001b[0m\u001b[0m\n\u001b[0m\u001b[0;32m      6\u001b[0m     \u001b[0mi\u001b[0m\u001b[1;33m+=\u001b[0m\u001b[1;36m1\u001b[0m\u001b[1;33m\u001b[0m\u001b[1;33m\u001b[0m\u001b[0m\n",
      "\u001b[1;31mIndexError\u001b[0m: list index out of range"
     ]
    }
   ],
   "source": [
    "#Пройдем все районы и посмотрим на состояние деревьев в них\n",
    "res = []\n",
    "i = 0\n",
    "for column in data['borough']:\n",
    "    res[column] += problems.components_[i]\n",
    "    i+=1"
   ]
  },
  {
   "cell_type": "code",
   "execution_count": null,
   "metadata": {},
   "outputs": [],
   "source": []
  }
 ],
 "metadata": {
  "kernelspec": {
   "display_name": "Python 3",
   "language": "python",
   "name": "python3"
  },
  "language_info": {
   "codemirror_mode": {
    "name": "ipython",
    "version": 3
   },
   "file_extension": ".py",
   "mimetype": "text/x-python",
   "name": "python",
   "nbconvert_exporter": "python",
   "pygments_lexer": "ipython3",
   "version": "3.8.5"
  }
 },
 "nbformat": 4,
 "nbformat_minor": 4
}
